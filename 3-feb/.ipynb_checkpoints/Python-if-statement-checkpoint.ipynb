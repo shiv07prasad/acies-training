{
 "cells": [
  {
   "cell_type": "code",
   "execution_count": 3,
   "metadata": {},
   "outputs": [],
   "source": [
    "import numpy as np\n",
    "from numpy.random import randn"
   ]
  },
  {
   "cell_type": "code",
   "execution_count": 4,
   "metadata": {},
   "outputs": [
    {
     "data": {
      "text/plain": [
       "-0.7931101148658114"
      ]
     },
     "execution_count": 4,
     "metadata": {},
     "output_type": "execute_result"
    }
   ],
   "source": [
    "randn()"
   ]
  },
  {
   "cell_type": "code",
   "execution_count": 10,
   "metadata": {},
   "outputs": [
    {
     "name": "stdout",
     "output_type": "stream",
     "text": [
      "1.1059063279811063\n",
      "i is greater than 1\n"
     ]
    }
   ],
   "source": [
    "i = randn()\n",
    "answer = None\n",
    "if i > 1:\n",
    "    answer = \"i is greater than 1\"\n",
    "print(i)\n",
    "print(answer)"
   ]
  },
  {
   "cell_type": "markdown",
   "metadata": {},
   "source": [
    "If the given condition is true , the if statement continues with the execution and does not loop back."
   ]
  },
  {
   "cell_type": "code",
   "execution_count": 11,
   "metadata": {},
   "outputs": [
    {
     "name": "stdout",
     "output_type": "stream",
     "text": [
      "0.7176128920034045\n",
      "i is lower than 1\n"
     ]
    }
   ],
   "source": [
    "#if-else\n",
    "\n",
    "i = randn()\n",
    "answer = None\n",
    "if i > 1:\n",
    "    answer = \"i is greater than 1\"\n",
    "else:\n",
    "    answer = \"i is lower than 1\"\n",
    "print(i)\n",
    "print(answer)"
   ]
  },
  {
   "cell_type": "code",
   "execution_count": 12,
   "metadata": {},
   "outputs": [
    {
     "name": "stdout",
     "output_type": "stream",
     "text": [
      "1.1948405637223827\n",
      "i is greater than 1\n"
     ]
    }
   ],
   "source": [
    "#nested statements\n",
    "\n",
    "i = randn()\n",
    "answer = None\n",
    "if i > 1:\n",
    "    answer = \"i is greater than 1\"\n",
    "else:\n",
    "    if i >= -1:\n",
    "        answer = \"i is greater than -1\"\n",
    "    else :\n",
    "        answer = \"i is less than -1\"\n",
    "print(i)\n",
    "print(answer)"
   ]
  },
  {
   "cell_type": "code",
   "execution_count": 13,
   "metadata": {},
   "outputs": [
    {
     "name": "stdout",
     "output_type": "stream",
     "text": [
      "1.0249160655748775\n",
      "i is greater than 1\n"
     ]
    }
   ],
   "source": [
    "#chained statements\n",
    "#elif statement\n",
    "\n",
    "i = randn()\n",
    "answer = None\n",
    "if i > 1:\n",
    "    answer = \"i is greater than 1\"\n",
    "elif i >= -1:\n",
    "    answer = \"i is greater than -1\"\n",
    "else :\n",
    "    answer = \"i is less than -1\"\n",
    "print(i)\n",
    "print(answer)"
   ]
  }
 ],
 "metadata": {
  "kernelspec": {
   "display_name": "Python 3",
   "language": "python",
   "name": "python3"
  },
  "language_info": {
   "codemirror_mode": {
    "name": "ipython",
    "version": 3
   },
   "file_extension": ".py",
   "mimetype": "text/x-python",
   "name": "python",
   "nbconvert_exporter": "python",
   "pygments_lexer": "ipython3",
   "version": "3.7.7"
  }
 },
 "nbformat": 4,
 "nbformat_minor": 4
}
